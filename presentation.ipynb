{
  "cells": [
    {
      "cell_type": "raw",
      "metadata": {},
      "source": [
        "---\n",
        "title: \"Formation R Quarto\"\n",
        "authors: \"Mathieu Depetris, Clara Lerebourg, Julien Lebranchu\"\n",
        "format:\n",
        "  revealjs: \n",
        "    slide-number: true\n",
        "    chalkboard: \n",
        "      buttons: false\n",
        "    preview-links: auto\n",
        "    theme: template/theme_perso.scss\n",
        "    logo: template/logo_marbec.png\n",
        "    footer: <https://github.com/ClaraLerebourg/formation-quarto>\n",
        "---"
      ],
      "id": "095e9900"
    },
    {
      "cell_type": "markdown",
      "metadata": {},
      "source": [
        "## Les bases\n",
        "\n",
        "Composition d'un script Quarto :\n",
        "\n",
        "-   IDE Studio\n",
        "\n",
        "-   Entête YAML\n",
        "\n",
        "-   Code chunks\n",
        "\n",
        "-   Figures et tableaux\n",
        "\n",
        "-   Texte\n",
        "\n",
        "-   Rendu\n",
        "\n",
        "## Les bases - IDE Sutdio\n",
        "\n",
        "A faire\n",
        "\n",
        "## Les bases - Entête YAML\n",
        "\n",
        "## Les bases - Codes chunks\n",
        "\n",
        "``` r\n",
        "#| label: load-packages\n",
        "#| echo: false\n",
        "\n",
        "library(ggplot2)\n",
        "```\n",
        "\n",
        "## Les bases - Codes chunks {auto-animate=\"true\"}\n",
        "``` r\n",
        "#| label: scatterplot\n",
        "#| echo: true\n",
        "\n",
        "mpg_ggplot <- ggplot(mpg, aes(x = hwy, y = cty, color = cyl)) +  \n",
        "geom_point(alpha = 0.5, size = 2) +  \n",
        "scale_color_viridis_c() +  \n",
        "theme_minimal()\n",
        "\n",
        "```\n",
        "\n",
        "{quarto code-label=\"scatterplot\"}\n"
      ],
      "id": "77610335"
    }
  ],
  "metadata": {
    "kernelspec": {
      "display_name": "Python 3",
      "language": "python",
      "name": "python3"
    }
  },
  "nbformat": 4,
  "nbformat_minor": 5
}